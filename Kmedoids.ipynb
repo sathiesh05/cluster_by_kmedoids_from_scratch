{
 "cells": [
  {
   "cell_type": "code",
   "execution_count": 6,
   "metadata": {},
   "outputs": [
    {
     "name": "stdout",
     "output_type": "stream",
     "text": [
      "Medoid point :  (6, 9)\n"
     ]
    }
   ],
   "source": [
    "import math\n",
    "points = [(1, 2), (2, 6), (12, 10), (3, 10), (3, 8), (14, 9), (4, 6), \n",
    "          (15, 10), (6, 9), (6, 11), (6, 5), (7, 5), (15, 4), (7, 2), \n",
    "          (15, 18), (4, 7)]\n",
    "\n",
    "def distance(p1,p2):\n",
    "    return math.sqrt((p1[0] - p2[0]) ** 2 + (p1[1] - p2[1]) ** 2)\n",
    "\n",
    "total_distances = []\n",
    "\n",
    "for i in points:\n",
    "    total = 0\n",
    "    for j in points:\n",
    "        dist = distance(i, j)\n",
    "        total += dist\n",
    "    total_distances.append(total)\n",
    "\n",
    "index = total_distances.index(min(total_distances))\n",
    "medoid_pt = points[index]\n",
    "print(\"Medoid point : \",medoid_pt)\n"
   ]
  },
  {
   "cell_type": "code",
   "execution_count": 7,
   "metadata": {},
   "outputs": [
    {
     "name": "stdout",
     "output_type": "stream",
     "text": [
      "[(47.26077695469522, 'm1'), (49.07423331853242, 'm2')]\n",
      "Best combination is  m1  with cost as  47.26077695469522\n"
     ]
    }
   ],
   "source": [
    "def find_distance(m):\n",
    "    tot1 = []\n",
    "    for i in points:\n",
    "        dist = []\n",
    "        for j in range(len(m)):\n",
    "            d = distance(i,m[j])\n",
    "            dist.append(d)\n",
    "        min_dist = min(dist)\n",
    "        tot1.append(min_dist)\n",
    "    return sum(tot1)\n",
    "\n",
    "best = []       \n",
    "m1 = [(12,10),(7,2),(4,7)]\n",
    "m2 = [(12,10),(7,2),(4,6)]\n",
    "best.append((find_distance(m1),\"m1\"))\n",
    "best.append((find_distance(m2),\"m2\"))\n",
    "\n",
    "print(best)\n",
    "\n",
    "n1,n2 = min(best)\n",
    "print(\"Best combination is \",n2,\" with cost as \",n1)"
   ]
  }
 ],
 "metadata": {
  "kernelspec": {
   "display_name": "base",
   "language": "python",
   "name": "python3"
  },
  "language_info": {
   "codemirror_mode": {
    "name": "ipython",
    "version": 3
   },
   "file_extension": ".py",
   "mimetype": "text/x-python",
   "name": "python",
   "nbconvert_exporter": "python",
   "pygments_lexer": "ipython3",
   "version": "3.12.5"
  }
 },
 "nbformat": 4,
 "nbformat_minor": 2
}
